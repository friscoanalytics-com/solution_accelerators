{
 "cells": [
  {
   "cell_type": "markdown",
   "metadata": {
    "application/vnd.databricks.v1+cell": {
     "cellMetadata": {},
     "inputWidgets": {},
     "nuid": "ba95747b-34c8-4953-a666-8c44c6e0d3af",
     "showTitle": false,
     "tableResultSettingsMap": {},
     "title": ""
    }
   },
   "source": [
    "## Purpose\n",
    "\n",
    "This notebook identifies potential duplicate records within your data using vector similarity search.\n",
    "\n",
    "## Prerequisites\n",
    "\n",
    "*   A Databricks workspace with access to Databricks Vector Search.\n",
    "*   A Model Serving endpoint serving an embedding model (e.g., `databricks-gte-large-en`).\n",
    "*   Bronze tables with the data you want to analyze, with appropriately defined `primaryKey`\n",
    "\n",
    "## Outputs\n",
    "\n",
    "*   Creates temporary views named `<entity_name>_duplicate_candidates` for each entity in the provided data model. These views contain potential duplicate records and their similarity scores.\n",
    "\n",
    "This is your first step in identifying and deduplicating your data!  Run this first to create the datasets that tell you your duplicate candidates"
   ]
  },
  {
   "cell_type": "code",
   "execution_count": 0,
   "metadata": {
    "application/vnd.databricks.v1+cell": {
     "cellMetadata": {
      "byteLimit": 2048000,
      "rowLimit": 10000
     },
     "inputWidgets": {},
     "nuid": "d44a0da5-cceb-4178-bcea-da58eaf50dc6",
     "showTitle": false,
     "tableResultSettingsMap": {},
     "title": ""
    }
   },
   "outputs": [],
   "source": [
    "%run ./config/include/multiThreading"
   ]
  },
  {
   "cell_type": "code",
   "execution_count": 0,
   "metadata": {
    "application/vnd.databricks.v1+cell": {
     "cellMetadata": {
      "byteLimit": 2048000,
      "rowLimit": 10000
     },
     "inputWidgets": {},
     "nuid": "6d64377e-1ba9-4d46-b66d-7c4d35ddfed0",
     "showTitle": false,
     "tableResultSettingsMap": {},
     "title": ""
    }
   },
   "outputs": [],
   "source": [
    "dbutils.widgets.text(\"embedding_model_endpoint_name\", \"databricks-gte-large-en\", \"Embedding Model\")\n",
    "dbutils.widgets.text(\"num_results\", \"4\", \"Num Results\")\n",
    "dbutils.widgets.text(\"catalog_name\",\"\")"
   ]
  },
  {
   "cell_type": "code",
   "execution_count": 0,
   "metadata": {
    "application/vnd.databricks.v1+cell": {
     "cellMetadata": {
      "byteLimit": 2048000,
      "rowLimit": 10000
     },
     "inputWidgets": {},
     "nuid": "677efa7c-e15c-4b5f-9671-caad6323fb7b",
     "showTitle": false,
     "tableResultSettingsMap": {},
     "title": ""
    }
   },
   "outputs": [],
   "source": [
    "embedding_model_endpoint_name = dbutils.widgets.get(\"embedding_model_endpoint_name\")\n",
    "num_results = int(dbutils.widgets.get(\"num_results\"))\n",
    "catalog_name = dbutils.widgets.get(\"catalog_name\")\n",
    "if not catalog_name:\n",
    "    raise Exception(\"Catalog name is required to run this notebook\")"
   ]
  },
  {
   "cell_type": "code",
   "execution_count": 0,
   "metadata": {
    "application/vnd.databricks.v1+cell": {
     "cellMetadata": {
      "byteLimit": 2048000,
      "rowLimit": 10000
     },
     "inputWidgets": {},
     "nuid": "c164996c-96fe-4249-b12e-0687d9c7fd4f",
     "showTitle": false,
     "tableResultSettingsMap": {},
     "title": ""
    }
   },
   "outputs": [],
   "source": [
    "notebookPath = current_notebook_path.replace(current_notebook_path.split(\"/\")[-1],\"config/detect_duplicates_main\")"
   ]
  },
  {
   "cell_type": "code",
   "execution_count": 0,
   "metadata": {
    "application/vnd.databricks.v1+cell": {
     "cellMetadata": {
      "byteLimit": 2048000,
      "rowLimit": 10000
     },
     "inputWidgets": {},
     "nuid": "e15ff3f1-5523-4cef-8211-d11c71af60ca",
     "showTitle": false,
     "tableResultSettingsMap": {},
     "title": ""
    }
   },
   "outputs": [],
   "source": [
    "# Example usage:  Hardcoded Entities\n",
    "entities = [\n",
    "    {\"table_name\": f\"{catalog_name}.bronze.provider\", \"primary_key\": \"provider_id\", \"columns_to_exclude\": [\"provider_id\"]},\n",
    "    {\"table_name\": f\"{catalog_name}.bronze.speciality\", \"primary_key\": \"speciality_id\", \"columns_to_exclude\": [\"speciality_id\", \"provider_id\"]},\n",
    "    {\"table_name\": f\"{catalog_name}.bronze.license_and_credential\", \"primary_key\": \"license_credential_id\", \"columns_to_exclude\": [\"license_credential_id\", \"provider_id\"]},\n",
    "    {\"table_name\": f\"{catalog_name}.bronze.affiliations\", \"primary_key\": \"affiliation_id\", \"columns_to_exclude\": [\"affiliation_id\", \"provider_id\"]},\n",
    "    {\"table_name\": f\"{catalog_name}.bronze.address_and_location\", \"primary_key\": \"address_location_id\", \"columns_to_exclude\": [\"address_location_id\", \"provider_id\"]},\n",
    "    {\"table_name\": f\"{catalog_name}.bronze.contact_information\", \"primary_key\": \"contact_id\", \"columns_to_exclude\": [\"contact_id\", \"provider_id\"]},\n",
    "    {\"table_name\": f\"{catalog_name}.bronze.ProviderNetworkParticipation\", \"primary_key\": \"network_id\", \"columns_to_exclude\": [\"network_id\", \"provider_id\"]},\n",
    "    {\"table_name\": f\"{catalog_name}.bronze.Employment_and_Contracts\", \"primary_key\": \"employment_contract_id\", \"columns_to_exclude\": [\"employment_contract_id\", \"provider_id\"]},\n",
    "    {\"table_name\": f\"{catalog_name}.bronze.Education_and_Training\", \"primary_key\": \"education_training_id\", \"columns_to_exclude\": [\"education_training_id\", \"provider_id\"]},\n",
    "    {\"table_name\": f\"{catalog_name}.bronze.Performance_and_QualityMetrics\", \"primary_key\": \"performance_metric_id\", \"columns_to_exclude\": [\"performance_metric_id\", \"provider_id\"]},\n",
    "    {\"table_name\": f\"{catalog_name}.bronze.Identifiers\", \"primary_key\": \"identifier_id\", \"columns_to_exclude\": [\"identifier_id\", \"provider_id\"]},\n",
    "    {\"table_name\": f\"{catalog_name}.bronze.Digital_Presence\", \"primary_key\": \"digital_presence_id\", \"columns_to_exclude\": [\"digital_presence_id\", \"provider_id\"]}\n",
    "]"
   ]
  },
  {
   "cell_type": "code",
   "execution_count": 0,
   "metadata": {
    "application/vnd.databricks.v1+cell": {
     "cellMetadata": {
      "byteLimit": 2048000,
      "rowLimit": 10000
     },
     "inputWidgets": {},
     "nuid": "be4a8871-cda8-415a-8dd7-e4d60da4e1a9",
     "showTitle": false,
     "tableResultSettingsMap": {},
     "title": ""
    }
   },
   "outputs": [],
   "source": [
    "notebooks = [NotebookData(f\"{notebookPath}\", 3600, {\"table_name\" : f'{entity[\"table_name\"]}',\"columns_to_exclude\" : f'{entity[\"columns_to_exclude\"]}',\"primary_key\" : f'{entity[\"primary_key\"]}',\"catalog_name\" : f'{catalog_name}',\"num_results\" : f'{num_results}',\"embedding_model_endpoint_name\" : f'{embedding_model_endpoint_name}'}) for entity in entities]   \n",
    "\n",
    "# #Array of instances of NotebookData Class\n",
    "parallel_thread = 12\n",
    "\n",
    "try : \n",
    "    res = parallel_notebooks(notebooks, parallel_thread)\n",
    "    result = [i.result(timeout = 3600) for i in res] # This is a blocking call.\n",
    "    print(result)  \n",
    "except NameError as e :\n",
    "    print(e)"
   ]
  }
 ],
 "metadata": {
  "application/vnd.databricks.v1+notebook": {
   "computePreferences": null,
   "dashboards": [],
   "environmentMetadata": {
    "base_environment": "",
    "environment_version": "2"
   },
   "inputWidgetPreferences": null,
   "language": "python",
   "notebookMetadata": {
    "pythonIndentUnit": 4
   },
   "notebookName": "1_detect_duplicates",
   "widgets": {
    "catalog_name": {
     "currentValue": "provider_360",
     "nuid": "59be2da7-6a61-4693-a06e-35b35c02b656",
     "typedWidgetInfo": {
      "autoCreated": false,
      "defaultValue": "",
      "label": null,
      "name": "catalog_name",
      "options": {
       "widgetDisplayType": "Text",
       "validationRegex": null
      },
      "parameterDataType": "String"
     },
     "widgetInfo": {
      "widgetType": "text",
      "defaultValue": "",
      "label": null,
      "name": "catalog_name",
      "options": {
       "widgetType": "text",
       "autoCreated": false,
       "validationRegex": null
      }
     }
    },
    "embedding_model_endpoint_name": {
     "currentValue": "databricks-gte-large-en",
     "nuid": "f5bac7bf-08df-4d2b-a9ff-3e95fc66ebb6",
     "typedWidgetInfo": {
      "autoCreated": false,
      "defaultValue": "databricks-gte-large-en",
      "label": "Embedding Model",
      "name": "embedding_model_endpoint_name",
      "options": {
       "widgetDisplayType": "Text",
       "validationRegex": null
      },
      "parameterDataType": "String"
     },
     "widgetInfo": {
      "widgetType": "text",
      "defaultValue": "databricks-gte-large-en",
      "label": "Embedding Model",
      "name": "embedding_model_endpoint_name",
      "options": {
       "widgetType": "text",
       "autoCreated": null,
       "validationRegex": null
      }
     }
    },
    "num_results": {
     "currentValue": "4",
     "nuid": "f03799b8-9aa2-4026-9cd7-c15107b210b6",
     "typedWidgetInfo": {
      "autoCreated": false,
      "defaultValue": "4",
      "label": "Num Results",
      "name": "num_results",
      "options": {
       "widgetDisplayType": "Text",
       "validationRegex": null
      },
      "parameterDataType": "String"
     },
     "widgetInfo": {
      "widgetType": "text",
      "defaultValue": "4",
      "label": "Num Results",
      "name": "num_results",
      "options": {
       "widgetType": "text",
       "autoCreated": null,
       "validationRegex": null
      }
     }
    }
   }
  },
  "language_info": {
   "name": "python"
  }
 },
 "nbformat": 4,
 "nbformat_minor": 0
}

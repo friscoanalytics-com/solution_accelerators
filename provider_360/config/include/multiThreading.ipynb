{
 "cells": [
  {
   "cell_type": "code",
   "execution_count": 0,
   "metadata": {
    "application/vnd.databricks.v1+cell": {
     "cellMetadata": {
      "byteLimit": 2048000,
      "rowLimit": 10000
     },
     "inputWidgets": {},
     "nuid": "7cc11787-71ba-4880-a7ea-8cdb7c980c7f",
     "showTitle": false,
     "tableResultSettingsMap": {},
     "title": ""
    }
   },
   "outputs": [],
   "source": [
    "from concurrent.futures import ThreadPoolExecutor\n",
    "\n",
    "class NotebookData:\n",
    "\n",
    "  def __init__(self, path, timeout, parameters = None, retry = 0):\n",
    "\n",
    "    self.path = path\n",
    "    self.timeout = timeout\n",
    "    self.parameters = parameters\n",
    "    self.retry = retry\n",
    "\n",
    "  def submit_notebook(notebook):\n",
    "    # print(\"Running URL for Table : %s \" % (notebook.parameters['url']))\n",
    "    try:\n",
    "      if (notebook.parameters):\n",
    "        return dbutils.notebook.run(notebook.path, notebook.timeout, notebook.parameters)\n",
    "      else:\n",
    "        return dbutils.notebook.run(notebook.path, notebook.timeout)\n",
    "    except Exception as e:\n",
    "       if notebook.retry < 1:\n",
    "        print(\"Failed For : \",notebook.parameters)\n",
    "        raise\n",
    "      \n",
    "    # print(\"Retrying for : %s \" % (notebook.parameters['url']))\n",
    "    notebook.retry = notebook.retry - 1\n",
    "    submit_notebook(notebook)\n",
    "\n",
    "def parallel_notebooks(notebooks, parallel_thread):\n",
    "    \"\"\"\n",
    "        If you create too many notebooks in parallel the driver may crash when you submit all of the jobs at once.\n",
    "        This code limits the number of parallel notebooks.\n",
    "    \"\"\"\n",
    "    with ThreadPoolExecutor(max_workers = parallel_thread) as ec:\n",
    "        return [ec.submit(NotebookData.submit_notebook, notebook) for notebook in notebooks]\n"
   ]
  },
  {
   "cell_type": "code",
   "execution_count": 0,
   "metadata": {
    "application/vnd.databricks.v1+cell": {
     "cellMetadata": {
      "byteLimit": 2048000,
      "rowLimit": 10000
     },
     "inputWidgets": {},
     "nuid": "1ba9ebf5-9f2a-40b5-a728-f22ebd91f1e1",
     "showTitle": false,
     "tableResultSettingsMap": {},
     "title": ""
    }
   },
   "outputs": [],
   "source": [
    "current_notebook_path = dbutils.notebook.entry_point.getDbutils().notebook().getContext().notebookPath().get()"
   ]
  }
 ],
 "metadata": {
  "application/vnd.databricks.v1+notebook": {
   "computePreferences": null,
   "dashboards": [],
   "environmentMetadata": {
    "base_environment": "",
    "environment_version": "2"
   },
   "inputWidgetPreferences": null,
   "language": "python",
   "notebookMetadata": {
    "pythonIndentUnit": 4
   },
   "notebookName": "multiThreading",
   "widgets": {}
  },
  "language_info": {
   "name": "python"
  }
 },
 "nbformat": 4,
 "nbformat_minor": 0
}

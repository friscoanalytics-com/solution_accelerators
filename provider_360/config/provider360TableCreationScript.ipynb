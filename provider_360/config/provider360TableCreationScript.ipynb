{
 "cells": [
  {
   "cell_type": "code",
   "execution_count": 0,
   "metadata": {
    "application/vnd.databricks.v1+cell": {
     "cellMetadata": {
      "byteLimit": 2048000,
      "rowLimit": 10000
     },
     "inputWidgets": {},
     "nuid": "a0792821-aad9-476f-b5c0-31f5ef6cd36f",
     "showTitle": false,
     "tableResultSettingsMap": {},
     "title": ""
    }
   },
   "outputs": [],
   "source": [
    "%python\n",
    "spark.sql(F\"USE CATALOG {catalog_name}\")"
   ]
  },
  {
   "cell_type": "code",
   "execution_count": 0,
   "metadata": {
    "application/vnd.databricks.v1+cell": {
     "cellMetadata": {
      "byteLimit": 2048000,
      "rowLimit": 10000
     },
     "inputWidgets": {},
     "nuid": "c423aa92-ebe4-45a9-9db0-5c7d462ca16c",
     "showTitle": false,
     "tableResultSettingsMap": {},
     "title": ""
    }
   },
   "outputs": [],
   "source": [
    "CREATE SCHEMA IF NOT EXISTS bronze;\n",
    "CREATE SCHEMA IF NOT EXISTS silver;\n",
    "CREATE SCHEMA IF NOT EXISTS analysis;\n",
    "CREATE SCHEMA IF NOT EXISTS gold;"
   ]
  },
  {
   "cell_type": "code",
   "execution_count": 0,
   "metadata": {
    "application/vnd.databricks.v1+cell": {
     "cellMetadata": {
      "byteLimit": 2048000,
      "rowLimit": 10000
     },
     "inputWidgets": {},
     "nuid": "1616e82b-bf57-4763-b10c-9df0e6db023f",
     "showTitle": false,
     "tableResultSettingsMap": {},
     "title": ""
    }
   },
   "outputs": [],
   "source": [
    "CREATE TABLE IF NOT EXISTS bronze.provider (\n",
    "    provider_id BIGINT PRIMARY KEY GENERATED ALWAYS AS IDENTITY,\n",
    "    first_name  STRING,\n",
    "    middle_name  STRING,\n",
    "    last_name  STRING,\n",
    "    suffix STRING,\n",
    "    prefix STRING,\n",
    "    full_name STRING,\n",
    "    gender STRING,\n",
    "    date_of_birth DATE,\n",
    "    provider_type STRING,\n",
    "    employment_type STRING,\n",
    "    taxonomy_code STRING,\n",
    "    npi_number STRING,\n",
    "    languages_spoken  STRING,\n",
    "    is_accepting_patients BOOLEAN,\n",
    "    primary_specialty  STRING,\n",
    "    secondary_specialties  STRING,\n",
    "    last_updated_date DATE,\n",
    "    created_date DATE,\n",
    "    status STRING\n",
    "    );"
   ]
  },
  {
   "cell_type": "code",
   "execution_count": 0,
   "metadata": {
    "application/vnd.databricks.v1+cell": {
     "cellMetadata": {
      "byteLimit": 2048000,
      "rowLimit": 10000
     },
     "inputWidgets": {},
     "nuid": "aa1cf5f8-da83-4b15-a6c3-8fb15d0df41a",
     "showTitle": false,
     "tableResultSettingsMap": {},
     "title": ""
    }
   },
   "outputs": [],
   "source": [
    "CREATE TABLE IF NOT EXISTS bronze.speciality (\n",
    "speciality_id BIGINT PRIMARY KEY GENERATED ALWAYS AS IDENTITY,\n",
    "`provider_id` BIGINT CONSTRAINT `provider_id` REFERENCES bronze.provider,\n",
    "specialty_type STRING,\n",
    "specialty_name STRING,\n",
    "board_certified BOOLEAN,\n",
    "certifying_board STRING,\n",
    "certification_status STRING,\n",
    "certification_date DATE,\n",
    "recertification_date DATE,\n",
    "expiration_date DATE,\n",
    "specialty_status STRING,\n",
    "specialty_start_date DATE,\n",
    "specialty_end_date DATE\n",
    ");"
   ]
  },
  {
   "cell_type": "code",
   "execution_count": 0,
   "metadata": {
    "application/vnd.databricks.v1+cell": {
     "cellMetadata": {
      "byteLimit": 2048000,
      "rowLimit": 10000
     },
     "inputWidgets": {},
     "nuid": "5a526d9b-0ba9-4c1e-bb65-515233855409",
     "showTitle": false,
     "tableResultSettingsMap": {},
     "title": ""
    }
   },
   "outputs": [],
   "source": [
    "CREATE TABLE IF NOT EXISTS bronze.license_and_credential (\n",
    "license_credential_id BIGINT PRIMARY KEY GENERATED ALWAYS AS IDENTITY,\n",
    "`provider_id` BIGINT CONSTRAINT `provider_id_license_and_credential` REFERENCES bronze.provider,\n",
    "license_type STRING,\n",
    "license_number INT,\n",
    "issuing_authority STRING,\n",
    "state_of_licensure STRING,\n",
    "license_status STRING,\n",
    "effective_date DATE,\n",
    "expiration_date DATE,\n",
    "credential_type STRING,\n",
    "credentialing_body STRING,\n",
    "certification_number INT,\n",
    "certification_status STRING,\n",
    "verification_date DATE\n",
    ");"
   ]
  },
  {
   "cell_type": "code",
   "execution_count": 0,
   "metadata": {
    "application/vnd.databricks.v1+cell": {
     "cellMetadata": {
      "byteLimit": 2048000,
      "rowLimit": 10000
     },
     "inputWidgets": {},
     "nuid": "93885689-8c89-4ad7-9d3a-3d168285dac7",
     "showTitle": false,
     "tableResultSettingsMap": {},
     "title": ""
    }
   },
   "outputs": [],
   "source": [
    "CREATE TABLE IF NOT EXISTS bronze.affiliations (\n",
    "affiliation_id BIGINT PRIMARY KEY GENERATED ALWAYS AS IDENTITY,\n",
    "`provider_id` BIGINT CONSTRAINT `provider_id_affiliations` REFERENCES bronze.provider,\n",
    "affiliation_type STRING,\n",
    "affiliated_organization_name STRING,\n",
    "start_date DATE,\n",
    "end_date DATE,\n",
    "affiliation_status STRING,\n",
    "role STRING,\n",
    "facility_location STRING,\n",
    "privileges_type STRING,\n",
    "specialty_affiliation STRING,\n",
    "affiliation_source STRING\n",
    ");"
   ]
  },
  {
   "cell_type": "code",
   "execution_count": 0,
   "metadata": {
    "application/vnd.databricks.v1+cell": {
     "cellMetadata": {
      "byteLimit": 2048000,
      "rowLimit": 10000
     },
     "inputWidgets": {},
     "nuid": "f434cd28-cafc-4757-8ce0-501456fc9ad4",
     "showTitle": false,
     "tableResultSettingsMap": {},
     "title": ""
    }
   },
   "outputs": [],
   "source": [
    "CREATE TABLE IF NOT EXISTS bronze.address_and_location (\n",
    "address_location_id BIGINT PRIMARY KEY GENERATED ALWAYS AS IDENTITY,\n",
    "`provider_id` BIGINT CONSTRAINT `provider_id_address_and_location` REFERENCES bronze.provider,\n",
    "location_id STRING,\n",
    "location_type STRING,\n",
    "facility_name STRING,\n",
    "address_line_1 STRING,\n",
    "address_line_2 STRING,\n",
    "city STRING,\n",
    "state STRING,\n",
    "postal_code STRING,\n",
    "country STRING,\n",
    "phone_number STRING,\n",
    "fax_number STRING,\n",
    "operating_hours STRING,\n",
    "location_status STRING,\n",
    "effective_date DATE,\n",
    "end_date DATE\n",
    ");"
   ]
  },
  {
   "cell_type": "code",
   "execution_count": 0,
   "metadata": {
    "application/vnd.databricks.v1+cell": {
     "cellMetadata": {
      "byteLimit": 2048000,
      "rowLimit": 10000
     },
     "inputWidgets": {},
     "nuid": "d3b2d8a6-c591-4a35-ac8e-af6179b8b610",
     "showTitle": false,
     "tableResultSettingsMap": {},
     "title": ""
    }
   },
   "outputs": [],
   "source": [
    "CREATE TABLE IF NOT EXISTS bronze.contact_information (\n",
    "contact_id BIGINT PRIMARY KEY GENERATED ALWAYS AS IDENTITY,\n",
    "`provider_id` BIGINT CONSTRAINT `provider_id_contact_information` REFERENCES bronze.provider,\n",
    "contact_type STRING,\n",
    "phone_number STRING,\n",
    "phone_type STRING,\n",
    "phone_extension STRING,\n",
    "email_address STRING,\n",
    "email_type STRING,\n",
    "fax_number STRING,\n",
    "preferred_contact_method STRING,\n",
    "availability_hours STRING,\n",
    "emergency_contact_name STRING,\n",
    "emergency_contact_relationship STRING,\n",
    "emergency_contact_phone STRING\n",
    ");"
   ]
  },
  {
   "cell_type": "code",
   "execution_count": 0,
   "metadata": {
    "application/vnd.databricks.v1+cell": {
     "cellMetadata": {
      "byteLimit": 2048000,
      "rowLimit": 10000
     },
     "inputWidgets": {},
     "nuid": "9ff48e91-fa93-4ebf-bbe0-be97219afe16",
     "showTitle": false,
     "tableResultSettingsMap": {},
     "title": ""
    }
   },
   "outputs": [],
   "source": [
    "CREATE TABLE IF NOT EXISTS bronze.ProviderNetworkParticipation (\n",
    "network_id BIGINT PRIMARY KEY GENERATED ALWAYS AS IDENTITY,\n",
    "`provider_id` BIGINT CONSTRAINT `provider_id_ProviderNetworkParticipation` REFERENCES bronze.provider,\n",
    "participation_id STRING,\n",
    "network_name STRING,\n",
    "network_type STRING,\n",
    "participation_status STRING,\n",
    "participation_effective_date DATE,\n",
    "participation_end_date DATE,\n",
    "tier_level STRING,\n",
    "plan_name STRING,\n",
    "plan_id STRING,\n",
    "region_coverage STRING,\n",
    "delegated BOOLEAN,\n",
    "credentialed_by_network BOOLEAN,\n",
    "contract_type STRING,\n",
    "reimbursement_model STRING,\n",
    "contact_name STRING,\n",
    "contact_phone STRING,\n",
    "contact_email STRING\n",
    ");"
   ]
  },
  {
   "cell_type": "code",
   "execution_count": 0,
   "metadata": {
    "application/vnd.databricks.v1+cell": {
     "cellMetadata": {
      "byteLimit": 2048000,
      "rowLimit": 10000
     },
     "inputWidgets": {},
     "nuid": "4279359c-2902-422c-a47f-d4d7a5434d7c",
     "showTitle": false,
     "tableResultSettingsMap": {},
     "title": ""
    }
   },
   "outputs": [],
   "source": [
    "CREATE TABLE IF NOT EXISTS bronze.Employment_and_Contracts (\n",
    "employment_contract_id BIGINT PRIMARY KEY GENERATED ALWAYS AS IDENTITY,\n",
    "`provider_id` BIGINT CONSTRAINT `provider_id_Employment_and_Contracts` REFERENCES bronze.provider,\n",
    "employment_id STRING,\n",
    "employer_name STRING,\n",
    "employment_type STRING,\n",
    "job_title STRING,\n",
    "department STRING,\n",
    "specialty STRING,\n",
    "contract_type STRING,\n",
    "contract_id STRING,\n",
    "employment_status STRING,\n",
    "start_date DATE,\n",
    "end_date DATE,\n",
    "contract_renewal_date DATE,\n",
    "work_location STRING,\n",
    "supervisor_name STRING,\n",
    "supervisor_contact STRING,\n",
    "compensation_model STRING,\n",
    "nda_signed BOOLEAN,\n",
    "non_compete_signed BOOLEAN\n",
    ");"
   ]
  },
  {
   "cell_type": "code",
   "execution_count": 0,
   "metadata": {
    "application/vnd.databricks.v1+cell": {
     "cellMetadata": {
      "byteLimit": 2048000,
      "rowLimit": 10000
     },
     "inputWidgets": {},
     "nuid": "34d5966a-a9d1-4e6e-80c4-fa8c05345145",
     "showTitle": false,
     "tableResultSettingsMap": {},
     "title": ""
    }
   },
   "outputs": [],
   "source": [
    "CREATE TABLE IF NOT EXISTS bronze.Education_and_Training (\n",
    "education_training_id BIGINT PRIMARY KEY GENERATED ALWAYS AS IDENTITY,\n",
    "`provider_id` BIGINT CONSTRAINT `provider_id_Education_and_Training` REFERENCES bronze.provider,\n",
    "education_id STRING ,\n",
    "education_type STRING,\n",
    "institution_name STRING,\n",
    "program_name STRING,\n",
    "degree_awarded STRING,\n",
    "field_of_study STRING,\n",
    "start_date DATE,\n",
    "end_date DATE,\n",
    "graduation_date DATE,\n",
    "is_completed BOOLEAN,\n",
    "education_status STRING,\n",
    "institution_location STRING,\n",
    "accreditation_status STRING,\n",
    "verification_status STRING,\n",
    "verified_by STRING,\n",
    "verification_date DATE,\n",
    "certificate_received BOOLEAN,\n",
    "license_eligible BOOLEAN,\n",
    "training_type STRING\n",
    ");"
   ]
  },
  {
   "cell_type": "code",
   "execution_count": 0,
   "metadata": {
    "application/vnd.databricks.v1+cell": {
     "cellMetadata": {
      "byteLimit": 2048000,
      "rowLimit": 10000
     },
     "inputWidgets": {},
     "nuid": "cd8cc497-3270-47c9-9889-203a93fc525e",
     "showTitle": false,
     "tableResultSettingsMap": {},
     "title": ""
    }
   },
   "outputs": [],
   "source": [
    "CREATE TABLE IF NOT EXISTS bronze.Performance_and_QualityMetrics (\n",
    "performance_metric_id BIGINT PRIMARY KEY GENERATED ALWAYS AS IDENTITY,\n",
    "`provider_id` BIGINT CONSTRAINT `provider_id_Performance_and_QualityMetrics` REFERENCES bronze.provider,\n",
    "metric_id STRING,\n",
    "metric_name STRING,\n",
    "metric_type STRING,\n",
    "measurement_period_start DATE,\n",
    "measurement_period_end DATE,\n",
    "metric_value FLOAT,\n",
    "metric_unit STRING,\n",
    "benchmark_value FLOAT,\n",
    "benchmark_source STRING,\n",
    "performance_rating STRING,\n",
    "rating_scale STRING,\n",
    "risk_adjusted BOOLEAN,\n",
    "quality_program STRING,\n",
    "specialty_relevant BOOLEAN,\n",
    "data_source STRING,\n",
    "verified_by STRING,\n",
    "verification_date DATE\n",
    ");"
   ]
  },
  {
   "cell_type": "code",
   "execution_count": 0,
   "metadata": {
    "application/vnd.databricks.v1+cell": {
     "cellMetadata": {
      "byteLimit": 2048000,
      "rowLimit": 10000
     },
     "inputWidgets": {},
     "nuid": "5717cb99-e16d-4469-b5f4-836b7436bf31",
     "showTitle": false,
     "tableResultSettingsMap": {},
     "title": ""
    }
   },
   "outputs": [],
   "source": [
    "CREATE TABLE IF NOT EXISTS bronze.Identifiers (\n",
    "identifier_id BIGINT PRIMARY KEY GENERATED ALWAYS AS IDENTITY,\n",
    "`provider_id` BIGINT CONSTRAINT `provider_id_Identifiers` REFERENCES bronze.provider,\n",
    "identifier_type STRING,\n",
    "identifier_value STRING,\n",
    "issuing_authority STRING,\n",
    "issuing_state STRING,\n",
    "country STRING,\n",
    "identifier_status STRING,\n",
    "effective_date DATE,\n",
    "expiration_date DATE\n",
    ");"
   ]
  },
  {
   "cell_type": "code",
   "execution_count": 0,
   "metadata": {
    "application/vnd.databricks.v1+cell": {
     "cellMetadata": {
      "byteLimit": 2048000,
      "rowLimit": 10000
     },
     "inputWidgets": {},
     "nuid": "4df02d58-bc1e-4cd1-998f-b714b10bcbef",
     "showTitle": false,
     "tableResultSettingsMap": {},
     "title": ""
    }
   },
   "outputs": [],
   "source": [
    "CREATE TABLE IF NOT EXISTS bronze.Digital_Presence (\n",
    "digital_presence_id BIGINT PRIMARY KEY GENERATED ALWAYS AS IDENTITY,\n",
    "`provider_id` BIGINT CONSTRAINT `provider_id_Digital_Presence` REFERENCES bronze.provider,\n",
    "platform_name STRING,\n",
    "platform_type STRING,\n",
    "profile_url STRING,\n",
    "username_or_handle STRING,\n",
    "profile_status STRING,\n",
    "last_updated_date DATE,\n",
    "is_verified BOOLEAN,\n",
    "display_on_directory BOOLEAN,\n",
    "digital_contact_email STRING,\n",
    "engagement_score FLOAT,\n",
    "reputation_rating FLOAT,\n",
    "reviews_count INTEGER,\n",
    "review_source STRING\n",
    "); "
   ]
  }
 ],
 "metadata": {
  "application/vnd.databricks.v1+notebook": {
   "computePreferences": null,
   "dashboards": [],
   "environmentMetadata": {
    "base_environment": "",
    "environment_version": "2"
   },
   "inputWidgetPreferences": null,
   "language": "sql",
   "notebookMetadata": {
    "pythonIndentUnit": 4
   },
   "notebookName": "provider360TableCreationScript",
   "widgets": {}
  },
  "language_info": {
   "name": "sql"
  }
 },
 "nbformat": 4,
 "nbformat_minor": 0
}
